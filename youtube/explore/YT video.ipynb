{
 "cells": [
  {
   "cell_type": "code",
   "execution_count": 1,
   "id": "336c2857",
   "metadata": {},
   "outputs": [],
   "source": [
    "import pytube"
   ]
  },
  {
   "cell_type": "code",
   "execution_count": 2,
   "id": "c1e933bb",
   "metadata": {},
   "outputs": [],
   "source": [
    "url = \"https://www.youtube.com/watch?v=6altVgTOf9s&list=PLIP_AClgjRDifgmU_0q3D4G87P0RfGFQ_&index=1\""
   ]
  },
  {
   "cell_type": "code",
   "execution_count": 3,
   "id": "e219e5c1",
   "metadata": {},
   "outputs": [],
   "source": [
    "yt = pytube.YouTube(url)"
   ]
  },
  {
   "cell_type": "code",
   "execution_count": 8,
   "id": "8028a3ea",
   "metadata": {},
   "outputs": [
    {
     "data": {
      "text/plain": [
       "'How Does Speech Recognition Work? Learn about Speech to Text, Voice Recognition and Speech Synthesis'"
      ]
     },
     "execution_count": 8,
     "metadata": {},
     "output_type": "execute_result"
    }
   ],
   "source": [
    "yt.title"
   ]
  },
  {
   "cell_type": "code",
   "execution_count": 14,
   "id": "26ca3a2c",
   "metadata": {},
   "outputs": [
    {
     "data": {
      "text/plain": [
       "'/data/general_utils/youtube/outputs/01_How Does Speech Recognition Work? Learn about Speech to Text, Voice Recognition and Speech Synthesis.mp4'"
      ]
     },
     "execution_count": 14,
     "metadata": {},
     "output_type": "execute_result"
    }
   ],
   "source": [
    "t = yt.streams.filter(file_extension=\"mp4\").order_by(\"resolution\").desc().first()\n",
    "t.download(output_path=\"outputs\", filename=f\"01_{yt.title}.mp4\")"
   ]
  },
  {
   "cell_type": "code",
   "execution_count": null,
   "id": "8b293381",
   "metadata": {},
   "outputs": [],
   "source": []
  }
 ],
 "metadata": {
  "kernelspec": {
   "display_name": "Python 3 (ipykernel)",
   "language": "python",
   "name": "python3"
  },
  "language_info": {
   "codemirror_mode": {
    "name": "ipython",
    "version": 3
   },
   "file_extension": ".py",
   "mimetype": "text/x-python",
   "name": "python",
   "nbconvert_exporter": "python",
   "pygments_lexer": "ipython3",
   "version": "3.10.4"
  }
 },
 "nbformat": 4,
 "nbformat_minor": 5
}
