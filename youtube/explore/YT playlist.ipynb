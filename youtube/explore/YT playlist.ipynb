{
 "cells": [
  {
   "cell_type": "code",
   "execution_count": 1,
   "id": "99f4fa25",
   "metadata": {},
   "outputs": [],
   "source": [
    "import pytube"
   ]
  },
  {
   "cell_type": "code",
   "execution_count": 2,
   "id": "8d67bc21",
   "metadata": {},
   "outputs": [],
   "source": [
    "url = \"https://www.youtube.com/playlist?list=PLIP_AClgjRDifgmU_0q3D4G87P0RfGFQ_\""
   ]
  },
  {
   "cell_type": "code",
   "execution_count": 3,
   "id": "8070a7e3",
   "metadata": {},
   "outputs": [],
   "source": [
    "t = pytube.Playlist(url)"
   ]
  },
  {
   "cell_type": "code",
   "execution_count": 5,
   "id": "ebdd2c59",
   "metadata": {},
   "outputs": [
    {
     "data": {
      "text/plain": [
       "9"
      ]
     },
     "execution_count": 5,
     "metadata": {},
     "output_type": "execute_result"
    }
   ],
   "source": [
    "t.length"
   ]
  },
  {
   "cell_type": "code",
   "execution_count": 6,
   "id": "3cb10b9d",
   "metadata": {},
   "outputs": [
    {
     "data": {
      "text/plain": [
       "[<pytube.__main__.YouTube object: videoId=6altVgTOf9s>, <pytube.__main__.YouTube object: videoId=QwBaFEeUUMA>, <pytube.__main__.YouTube object: videoId=7t1z-ZsVUs0>, <pytube.__main__.YouTube object: videoId=4h1H1F2WJ5Y>, <pytube.__main__.YouTube object: videoId=WGFIo1ebvM0>, <pytube.__main__.YouTube object: videoId=f91NaWhJaug>, <pytube.__main__.YouTube object: videoId=CXlOoNL7Udo>, <pytube.__main__.YouTube object: videoId=SYzRMjEgAQU>, <pytube.__main__.YouTube object: videoId=5wi4bKg1puk>]"
      ]
     },
     "execution_count": 6,
     "metadata": {},
     "output_type": "execute_result"
    }
   ],
   "source": [
    "t.videos"
   ]
  },
  {
   "cell_type": "code",
   "execution_count": 7,
   "id": "46c58214",
   "metadata": {},
   "outputs": [
    {
     "data": {
      "text/plain": [
       "'Natural Language Processing (NLP)'"
      ]
     },
     "execution_count": 7,
     "metadata": {},
     "output_type": "execute_result"
    }
   ],
   "source": [
    "t.title"
   ]
  },
  {
   "cell_type": "code",
   "execution_count": 8,
   "id": "ab111a07",
   "metadata": {},
   "outputs": [
    {
     "name": "stdout",
     "output_type": "stream",
     "text": [
      "<pytube.__main__.YouTube object: videoId=6altVgTOf9s>\n",
      "<pytube.__main__.YouTube object: videoId=QwBaFEeUUMA>\n",
      "<pytube.__main__.YouTube object: videoId=7t1z-ZsVUs0>\n",
      "<pytube.__main__.YouTube object: videoId=4h1H1F2WJ5Y>\n",
      "<pytube.__main__.YouTube object: videoId=WGFIo1ebvM0>\n",
      "<pytube.__main__.YouTube object: videoId=f91NaWhJaug>\n",
      "<pytube.__main__.YouTube object: videoId=CXlOoNL7Udo>\n",
      "<pytube.__main__.YouTube object: videoId=SYzRMjEgAQU>\n",
      "<pytube.__main__.YouTube object: videoId=5wi4bKg1puk>\n"
     ]
    }
   ],
   "source": [
    "for e in t.videos_generator():\n",
    "    print(e)"
   ]
  },
  {
   "cell_type": "code",
   "execution_count": null,
   "id": "4f8886b7",
   "metadata": {},
   "outputs": [],
   "source": []
  }
 ],
 "metadata": {
  "kernelspec": {
   "display_name": "Python 3 (ipykernel)",
   "language": "python",
   "name": "python3"
  },
  "language_info": {
   "codemirror_mode": {
    "name": "ipython",
    "version": 3
   },
   "file_extension": ".py",
   "mimetype": "text/x-python",
   "name": "python",
   "nbconvert_exporter": "python",
   "pygments_lexer": "ipython3",
   "version": "3.10.4"
  }
 },
 "nbformat": 4,
 "nbformat_minor": 5
}
